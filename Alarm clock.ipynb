{
 "cells": [
  {
   "cell_type": "code",
   "execution_count": null,
   "id": "ffb3eaa6",
   "metadata": {},
   "outputs": [
    {
     "name": "stdout",
     "output_type": "stream",
     "text": [
      "Enter the alarm time in 'HH:MM:SS AM/PM' format: 04:01:02 PM\n",
      "Setting up alarm!\n"
     ]
    }
   ],
   "source": [
    "# Running pip install command to download datetime & playsound modules\n",
    "# Importing required these modules \n",
    "from datetime import datetime\n",
    "from playsound import playsound\n",
    "# Saving the alarm_time variable by using a standard time format for hour, minute, second and period\n",
    "alarm_time = input(\"Enter the alarm time in 'HH:MM:SS AM/PM' format: \")\n",
    "# Using a slicing operator to access the first two characters of user input\n",
    "# The input is not more than 12 hours then the execution will move forward to the next conditional statement. \n",
    "# If the input is more than 12 hours, then it will return a statement asking the user to re-enter the time.\n",
    "alarm_hour = alarm_time[0:2]\n",
    "alarm_minute = alarm_time [3:5]\n",
    "alarm_second = alarm_time [6:8]\n",
    "alarm_period = alarm_time[9:11].upper()\n",
    "print(\"Setting up alarm!\")\n",
    "\n",
    "while True:\n",
    "    now = datetime.now()\n",
    "    current_hour = now.strftime(\"%I\")\n",
    "    current_minute = now.strftime(\"%M\")\n",
    "    current_second = now.strftime(\"%S\")\n",
    "    current_period = now.strftime(\"%p\")\n",
    "# Using if statement to compare current time and user time\n",
    "# When the user and current period(AM/PM) matches, the next if statement will be excuted \n",
    "# Finally, when the last if statement is matched and \"It's time for waking up!\" will be printed and the alarm tone will be played\n",
    "    if alarm_period == current_period:\n",
    "        if alarm_hour == current_hour:\n",
    "            if alarm_minute == current_minute:\n",
    "                if alarm_second == current_second:\n",
    "                    print(\"It's time for waking up!\")\n",
    "                    playsound('C:\\\\Users\\\\Engineer_2022\\\\Desktop\\\\Project-2022\\\\Day-projects\\\\repos\\\\100Python_projects\\\\Drum.wav')\n",
    "                    break"
   ]
  }
 ],
 "metadata": {
  "kernelspec": {
   "display_name": "Python 3 (ipykernel)",
   "language": "python",
   "name": "python3"
  },
  "language_info": {
   "codemirror_mode": {
    "name": "ipython",
    "version": 3
   },
   "file_extension": ".py",
   "mimetype": "text/x-python",
   "name": "python",
   "nbconvert_exporter": "python",
   "pygments_lexer": "ipython3",
   "version": "3.9.12"
  }
 },
 "nbformat": 4,
 "nbformat_minor": 5
}
