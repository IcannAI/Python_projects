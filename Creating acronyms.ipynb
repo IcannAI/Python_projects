{
 "cells": [
  {
   "cell_type": "code",
   "execution_count": 1,
   "id": "d81a8b25",
   "metadata": {},
   "outputs": [
    {
     "name": "stdout",
     "output_type": "stream",
     "text": [
      "Enter a Phrase:Project variety including Transformation, Application, Integration and Cloud\n",
      "PVITAIAC\n"
     ]
    }
   ],
   "source": [
    "# To create an acronym as an abbreviation formed from initial letters of words as a new word\n",
    "# To generate a short form of a given sentence by splitting and indexing method\n",
    "# Taking a string user input and using the split() function for splitting the words \n",
    "\n",
    "user_input = str(input(\"Enter a Phrase:\"))\n",
    "text = user_input.split()\n",
    "\n",
    "# Using a new variable 'a' to store the acronym of a phase\n",
    "a = \"\"\n",
    "\n",
    "# Running a for loop over the variable 'text' representing the split of user input\n",
    "# Running the for loop storing the index value of str[0] of each word and turning it into an uppercase by using the upper() function\n",
    "for i in text:\n",
    "    a = a + str (i[0]).upper()\n",
    "print(a)"
   ]
  },
  {
   "cell_type": "code",
   "execution_count": null,
   "id": "67cdb726",
   "metadata": {},
   "outputs": [],
   "source": []
  }
 ],
 "metadata": {
  "kernelspec": {
   "display_name": "Python 3 (ipykernel)",
   "language": "python",
   "name": "python3"
  },
  "language_info": {
   "codemirror_mode": {
    "name": "ipython",
    "version": 3
   },
   "file_extension": ".py",
   "mimetype": "text/x-python",
   "name": "python",
   "nbconvert_exporter": "python",
   "pygments_lexer": "ipython3",
   "version": "3.9.12"
  }
 },
 "nbformat": 4,
 "nbformat_minor": 5
}
