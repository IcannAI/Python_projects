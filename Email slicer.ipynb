{
 "cells": [
  {
   "cell_type": "code",
   "execution_count": 1,
   "id": "d80ce0cb",
   "metadata": {},
   "outputs": [
    {
     "name": "stdout",
     "output_type": "stream",
     "text": [
      "Type your email: al...@redwolfrosch.com.au\n",
      "Your name is'al...' and your domain is 'redwolfrosch.com.au'\n"
     ]
    }
   ],
   "source": [
    "# Using the user input and strip function \n",
    "# Using '@' symbol as the separator to split the email into two parts\n",
    "email = input(\"Type your email: \").strip()\n",
    "username = email[:email.index(\"@\")]\n",
    "domain_name = email[email.index(\"@\") + 1:]\n",
    "format_ = (f\"Your name is'{username}' and your domain is '{domain_name}'\")\n",
    "print(format_)"
   ]
  }
 ],
 "metadata": {
  "kernelspec": {
   "display_name": "Python 3 (ipykernel)",
   "language": "python",
   "name": "python3"
  },
  "language_info": {
   "codemirror_mode": {
    "name": "ipython",
    "version": 3
   },
   "file_extension": ".py",
   "mimetype": "text/x-python",
   "name": "python",
   "nbconvert_exporter": "python",
   "pygments_lexer": "ipython3",
   "version": "3.9.12"
  }
 },
 "nbformat": 4,
 "nbformat_minor": 5
}
