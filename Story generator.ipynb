{
 "cells": [
  {
   "cell_type": "code",
   "execution_count": 1,
   "id": "662323e9",
   "metadata": {},
   "outputs": [
    {
     "name": "stdout",
     "output_type": "stream",
     "text": [
      "Last Sunday, operation that stayed in Paris, was headed to the university and went for the lectures\n"
     ]
    }
   ],
   "source": [
    "import random\n",
    "when = ['A few months ago', 'Yesterday night', 'Last Sunday', 'Far in the past', 'On 1st February']\n",
    "who = ['operation', 'captain', 'swordsman', 'robotAI', 'student']\n",
    "name = ['Misaki', 'Luffy', 'Zoro', 'Doraemon', 'Norman']\n",
    "residence = ['LA', 'London', 'Paris', 'Stuttgart', 'Tokyo']\n",
    "went =['conference', 'library', 'museum', 'university', 'lab']\n",
    "happened = ['Took a public speaking', 'wrote journals', 'discovered modern art', 'went for the lectures', 'attended workshops']\n",
    "print(random.choice(when) + ', ' + random.choice(who) + ' that stayed in ' + random.choice(residence) + ', was headed to the ' + random.choice(went) + ' and ' + random.choice(happened))\n"
   ]
  }
 ],
 "metadata": {
  "kernelspec": {
   "display_name": "Python 3 (ipykernel)",
   "language": "python",
   "name": "python3"
  },
  "language_info": {
   "codemirror_mode": {
    "name": "ipython",
    "version": 3
   },
   "file_extension": ".py",
   "mimetype": "text/x-python",
   "name": "python",
   "nbconvert_exporter": "python",
   "pygments_lexer": "ipython3",
   "version": "3.9.12"
  }
 },
 "nbformat": 4,
 "nbformat_minor": 5
}
